{
 "cells": [
  {
   "cell_type": "markdown",
   "id": "4f638264-9254-4a2a-b5e0-dc5f554fffad",
   "metadata": {},
   "source": [
    "Implementation of chatbot"
   ]
  },
  {
   "cell_type": "code",
   "execution_count": 3,
   "id": "d71fa227-810d-4ed5-a57c-814c86999a8a",
   "metadata": {},
   "outputs": [],
   "source": [
    "import nltk\n",
    "import random\n",
    "import os\n",
    "import ssl\n",
    "import streamlit as st\n",
    "from sklearn.feature_extraction.text import TfidfVectorizer\n",
    "from sklearn.linear_model import LogisticRegression\n",
    "\n"
   ]
  },
  {
   "cell_type": "code",
   "execution_count": 7,
   "id": "ab1187b3-1f67-46bd-9f94-030a6481f67c",
   "metadata": {},
   "outputs": [
    {
     "name": "stderr",
     "output_type": "stream",
     "text": [

     ]
    },
    {
     "data": {
      "text/plain": [
       "True"
      ]
     },
     "execution_count": 7,
     "metadata": {},
     "output_type": "execute_result"
    }
   ],
   "source": [
    "ssl._create_default_https_context = ssl._create_unverified_context\n",
    "nltk.data.path.append(os.path.abspath('nltk_data'))\n",
    "nltk.download('punkt')"
   ]
  },
  {
   "cell_type": "code",
   "execution_count": 32,
   "id": "c5f14ff2-0fca-492b-884f-f80bb4ee492f",
   "metadata": {},
   "outputs": [],
   "source": [
    "intents=[\n",
    "    \n",
    "{ 'tag': 'inquiry',\n",
    "'pattern': ['How are you?'],\n",
    "'respone': ['I am doing great,how about you?']\n",
    "},\n",
    "\n",
    "{'tag': 'confirmation',\n",
    "'pattern': ['What is  your plan for today?'],\n",
    "'respone': ['Yes, I did! Got it loud and clear.']\n",
    "},\n",
    "\n",
    "{'tag': 'apology',\n",
    "'pattern': ['Sorry for the delay,I got caught up.'],\n",
    "'respone': ['No problem at all, I understand.']\n",
    "},\n",
    "\n",
    "{'tag': 'request',\n",
    "'pattern': ['Can you send me that file?'],\n",
    "'respone': ['Sure,I will send it right away!']\n",
    "},\n",
    "\n",
    "{'tag': 'gratitude',\n",
    "'pattern': ['I can not thank you enough'],\n",
    "'respone': ['Most welcome, happy to help!']\n",
    "},\n",
    "\n",
    "{'tag': 'encouragement',\n",
    "'pattern': ['You can do it, do not give up!'],\n",
    "'respone': ['Thanks, I will keep going for sure!']\n",
    "},\n",
    "\n",
    "{'tag': 'surprise',\n",
    "'pattern': ['Wow, that is amazing!'],\n",
    "'respone': ['Right? I was shocked too!']\n",
    "},\n",
    "\n",
    "{'tag': 'farewell',\n",
    "'pattern': ['Goodbye'],\n",
    "'respone': ['See you later']\n",
    "},\n",
    "\n",
    "{'tag': 'weather',\n",
    "'pattern': ['Is it raining?'],\n",
    "'respone': ['No, It is clear today']\n",
    "},\n",
    "\n",
    "{'tag': 'compliment',\n",
    "'pattern': ['You look great'],\n",
    "'respone': ['Thanks,so do you!']\n",
    "}\n",
    "]\n",
    "\n",
    "\n",
    "\n"
   ]
  }
 ],
 "metadata": {
  "kernelspec": {
   "display_name": "Python [conda env:base] *",
   "language": "python",
   "name": "conda-base-py"
  },
  "language_info": {
   "codemirror_mode": {
    "name": "ipython",
    "version": 3
   },
   "file_extension": ".py",
   "mimetype": "text/x-python",
   "name": "python",
   "nbconvert_exporter": "python",
   "pygments_lexer": "ipython3",
   "version": "3.12.7"
  }
 },
 "nbformat": 4,
 "nbformat_minor": 5
}
